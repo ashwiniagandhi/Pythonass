{
 "cells": [
  {
   "cell_type": "code",
   "execution_count": 1,
   "metadata": {},
   "outputs": [
    {
     "name": "stdout",
     "output_type": "stream",
     "text": [
      "no. of vowles= 4\n",
      "no.of consonant= 0\n",
      "no.of special characters= 3\n"
     ]
    }
   ],
   "source": [
    "#Question 1:Accept a string from the user and count no.of vowels,consonants and special characters \n",
    "import string\n",
    "spl=string.punctuation\n",
    "\n",
    "#written by pranavi\n",
    "vowels =\"aeiou\"\n",
    "def count_char22(string):\n",
    "    v=0\n",
    "    cons=0\n",
    "    splchar=0\n",
    "    #digit=0\n",
    "    \n",
    "    for ch in string:\n",
    "            \n",
    "            if ch.lower() in vowels:\n",
    "                v+=1\n",
    "            elif ch in spl:\n",
    "                \n",
    "                splchar += 1\n",
    "            else:\n",
    "                cons+=1\n",
    "    print('no. of vowles=',v)\n",
    "    print('no.of consonant=',cons)\n",
    "    print('no.of special characters=',splchar)\n",
    "count_char22(\"aoii@##\")\n"
   ]
  },
  {
   "cell_type": "code",
   "execution_count": 1,
   "metadata": {},
   "outputs": [],
   "source": [
    "l=[1,2,3]"
   ]
  },
  {
   "cell_type": "code",
   "execution_count": 4,
   "metadata": {},
   "outputs": [
    {
     "data": {
      "text/plain": [
       "[1, 2, 3, 5, 5]"
      ]
     },
     "execution_count": 4,
     "metadata": {},
     "output_type": "execute_result"
    }
   ],
   "source": [
    "l.append(5)\n",
    "l"
   ]
  },
  {
   "cell_type": "code",
   "execution_count": 6,
   "metadata": {},
   "outputs": [
    {
     "data": {
      "text/plain": [
       "5"
      ]
     },
     "execution_count": 6,
     "metadata": {},
     "output_type": "execute_result"
    }
   ],
   "source": [
    "l.pop()"
   ]
  },
  {
   "cell_type": "code",
   "execution_count": 10,
   "metadata": {},
   "outputs": [
    {
     "ename": "IndexError",
     "evalue": "pop index out of range",
     "output_type": "error",
     "traceback": [
      "\u001b[1;31m---------------------------------------------------------------------------\u001b[0m",
      "\u001b[1;31mIndexError\u001b[0m                                Traceback (most recent call last)",
      "\u001b[1;32m<ipython-input-10-9b5bc06e8392>\u001b[0m in \u001b[0;36m<module>\u001b[1;34m\u001b[0m\n\u001b[1;32m----> 1\u001b[1;33m \u001b[0ml\u001b[0m\u001b[1;33m.\u001b[0m\u001b[0mpop\u001b[0m\u001b[1;33m(\u001b[0m\u001b[1;36m2\u001b[0m\u001b[1;33m)\u001b[0m\u001b[1;33m\u001b[0m\u001b[1;33m\u001b[0m\u001b[0m\n\u001b[0m",
      "\u001b[1;31mIndexError\u001b[0m: pop index out of range"
     ]
    }
   ],
   "source": [
    "l.pop(2)\n"
   ]
  },
  {
   "cell_type": "code",
   "execution_count": 11,
   "metadata": {},
   "outputs": [
    {
     "name": "stdout",
     "output_type": "stream",
     "text": [
      "<class 'list'>\n",
      "<class 'float'>\n"
     ]
    }
   ],
   "source": [
    "print(type(l))\n",
    "print(type(1.1))"
   ]
  },
  {
   "cell_type": "code",
   "execution_count": 13,
   "metadata": {},
   "outputs": [
    {
     "name": "stdout",
     "output_type": "stream",
     "text": [
      "<class 'list'>\n",
      "<class 'list'>\n",
      "<class 'tuple'>\n",
      "<class 'dict'>\n"
     ]
    }
   ],
   "source": [
    "print(type(l))\n",
    "print(type([]))\n",
    "print(type(()))\n",
    "print(type({}))"
   ]
  },
  {
   "cell_type": "code",
   "execution_count": 14,
   "metadata": {},
   "outputs": [
    {
     "name": "stdout",
     "output_type": "stream",
     "text": [
      "<class 'str'>\n"
     ]
    }
   ],
   "source": [
    "print(type('avishkar'))"
   ]
  },
  {
   "cell_type": "code",
   "execution_count": 2,
   "metadata": {},
   "outputs": [
    {
     "data": {
      "text/plain": [
       "2"
      ]
     },
     "execution_count": 2,
     "metadata": {},
     "output_type": "execute_result"
    }
   ],
   "source": [
    "#Question 2:\n",
    "#count the no.of pairs of a in the given string(Infosys InfyTQ)\n",
    "#string → \"abbaaccbbaaa\" output → 2 \n",
    "s=\"abbaaccbbaaa\"\n",
    "s.count(\"aa\")"
   ]
  },
  {
   "cell_type": "code",
   "execution_count": 3,
   "metadata": {},
   "outputs": [
    {
     "name": "stdout",
     "output_type": "stream",
     "text": [
      "8\n"
     ]
    }
   ],
   "source": [
    "#Question 3:\n",
    " #Test case1:string → \"((((()()()))))()\" string → \"((()))()\" \n",
    "s=\"((()))()\"\n",
    "count=0\n",
    "for i in s:\n",
    "    if i in \"(\" or \")\":\n",
    "        count+=1\n",
    "print(count)\n"
   ]
  },
  {
   "cell_type": "code",
   "execution_count": 4,
   "metadata": {},
   "outputs": [
    {
     "name": "stdout",
     "output_type": "stream",
     "text": [
      "4\n"
     ]
    }
   ],
   "source": [
    "string= \"((()))()\"\n",
    "count=0\n",
    "for i in string:\n",
    "    if i in \"(\" and \")\":\n",
    "        count+=1\n",
    "print(count)"
   ]
  },
  {
   "cell_type": "code",
   "execution_count": null,
   "metadata": {},
   "outputs": [],
   "source": [
    "#Question 4:\n",
    "#Read the input as two limits and Print the output as Palindrome count between the two limits\n",
    "#Example #1; Input : 1 10 Output : 9\n",
    "#Example #2: Input : 1 100 Output : 18 \n",
    "mini= int(input(\" Please Enter the Minimum Value : \"))\n",
    "maxi= int(input(\" Please Enter the Maximum Value : \"))\n",
    "\n",
    "print(\"Palindrome Numbers between %d and %d are : \" %(mini, maxi))\n",
    "\n",
    "for num in range(mini, maxi + 1):\n",
    "    temp = num\n",
    "    reverse = 0\n",
    "    c=[]\n",
    "    while(temp > 0):\n",
    "        \n",
    "        Reminder = temp % 10\n",
    "        reverse = (reverse * 10) + Reminder\n",
    "        temp = temp //10\n",
    "    if(num == reverse):\n",
    "        print(\"%d \" %num, end = ' ')\n",
    "        \n",
    "        "
   ]
  },
  {
   "cell_type": "code",
   "execution_count": null,
   "metadata": {},
   "outputs": [],
   "source": [
    "#Question 4:\n",
    "#Read the input as two limits and Print the output as Palindrome count between the two limits\n",
    "#Example #1; Input : 1 10 Output : 9\n",
    "#Example #2: Input : 1 100 Output : 18 \n",
    "mini= int(input(\" Please Enter the Minimum Value : \"))\n",
    "maxi= int(input(\" Please Enter the Maximum Value : \"))\n",
    "\n",
    "print(\"Palindrome Numbers between %d and %d are : \" %(mini, maxi))\n",
    "for num in range(mini, maxi + 1):\n",
    "    temp = num\n",
    "    reverse = 0\n",
    "    \n",
    "    while(temp > 0):\n",
    "        \n",
    "        Reminder = temp % 10\n",
    "        reverse = (reverse * 10) + Reminder\n",
    "        temp = temp //10\n",
    "    if(num == reverse):\n",
    "        a=print(\"%d \" %num, end = ' ')"
   ]
  },
  {
   "cell_type": "code",
   "execution_count": null,
   "metadata": {},
   "outputs": [],
   "source": [
    "#Question 5:Accept a number as an input and check whether the given number is palindrome or not\n",
    "#if it is a palindrome number print the number on the screen\n",
    "#if it is not a palindrome number reverse that number and add it to previous number\n",
    "#repeat this until will get a palindrome number and print that palindrome number on the screen input: 127 output: 848 \n",
    "def palln(string):\n",
    "    if string==string[::-1]:\n",
    "        print(\"pallindrom\",string)\n",
    "    else:\n",
    "        print(\"not pallindrome\",string[::-1]) \n",
    "        a=string[::-1]\n",
    "        c=int(a)\n",
    "        d=int(string)\n",
    "        z=c+d\n",
    "        print(z)"
   ]
  },
  {
   "cell_type": "code",
   "execution_count": null,
   "metadata": {},
   "outputs": [],
   "source": [
    "palln('127')"
   ]
  },
  {
   "cell_type": "code",
   "execution_count": null,
   "metadata": {},
   "outputs": [],
   "source": [
    "#Question 6: \n",
    "str=\"orange\"\n",
    "b=str.replace(\"orange\",\"puboif\")\n",
    "print(b)"
   ]
  },
  {
   "cell_type": "code",
   "execution_count": null,
   "metadata": {},
   "outputs": [],
   "source": [
    "#Question 7:Accept input as a string and display sum of digits as the output input:Appli123cation45 Output: 21 \n",
    "\n",
    "num=[]\n",
    "def add(str):\n",
    "    for word in str.split():\n",
    "        if word.isdigit():\n",
    "            num.append(int(word))\n",
    "            print(num)\n",
    "    print(sum(num))\n",
    "    \n",
    "add(\"Appli 1 2 3 cation 4 5 6\")"
   ]
  },
  {
   "cell_type": "code",
   "execution_count": null,
   "metadata": {},
   "outputs": [],
   "source": [
    "Question 8:\n",
    "Write a program to prompt for a score between 0.0 and 1.0. If the score is out of range, print\n",
    "an error. If the score is between 0.0 and 1.0, print a grade using the following table:\n",
    "Score Grade\n",
    ">= 0.9 A\n",
    ">= 0.8 B\n",
    ">= 0.7 C\n",
    ">= 0.6 D\n",
    "< 0.6 F\n",
    "If the user enters a value out of range, print a suitable error message and exit. For the test,\n",
    "enter a score of 0.85"
   ]
  },
  {
   "cell_type": "code",
   "execution_count": 12,
   "metadata": {},
   "outputs": [
    {
     "name": "stdout",
     "output_type": "stream",
     "text": [
      " Please Enter the Minimum Value : 0.9\n",
      "0.0\n"
     ]
    }
   ],
   "source": [
    "a= float(input(\" Please Enter the Minimum Value : \"))\n",
    "for a in range(0,1):\n",
    "    \n"
   ]
  }
 ],
 "metadata": {
  "kernelspec": {
   "display_name": "Python 3",
   "language": "python",
   "name": "python3"
  },
  "language_info": {
   "codemirror_mode": {
    "name": "ipython",
    "version": 3
   },
   "file_extension": ".py",
   "mimetype": "text/x-python",
   "name": "python",
   "nbconvert_exporter": "python",
   "pygments_lexer": "ipython3",
   "version": "3.7.3"
  }
 },
 "nbformat": 4,
 "nbformat_minor": 2
}
